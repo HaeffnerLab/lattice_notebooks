{
 "cells": [
  {
   "cell_type": "markdown",
   "metadata": {},
   "source": [
    "## Images from camera"
   ]
  },
  {
   "cell_type": "code",
   "execution_count": 1,
   "metadata": {},
   "outputs": [
    {
     "name": "stdout",
     "output_type": "stream",
     "text": [
      "[{'name': '1614_14_images', 'exposure_time_in_ms': 1.0, 'with_ion': False}, {'name': '1624_50_images', 'exposure_time_in_ms': 0.5, 'with_ion': False}, {'name': '1629_33_images', 'exposure_time_in_ms': 0.2, 'with_ion': False}, {'name': '1705_25_images', 'exposure_time_in_ms': 0.2, 'with_ion': True}, {'name': '1712_39_images', 'exposure_time_in_ms': 0.5, 'with_ion': True}, {'name': '1714_40_images', 'exposure_time_in_ms': 1.0, 'with_ion': True}, {'name': '1716_40_images', 'exposure_time_in_ms': 2.0, 'with_ion': True}, {'name': '1718_41_images', 'exposure_time_in_ms': 3.0, 'with_ion': True}, {'name': '1721_21_images', 'exposure_time_in_ms': 4.0, 'with_ion': True}, {'name': '1725_22_images', 'exposure_time_in_ms': 6.0, 'with_ion': True}, {'name': '1732_27_images', 'exposure_time_in_ms': 6.0, 'with_ion': False}, {'name': '1734_15_images', 'exposure_time_in_ms': 4.0, 'with_ion': False}, {'name': '1736_03_images', 'exposure_time_in_ms': 2.0, 'with_ion': False}, {'name': '1738_41_images', 'exposure_time_in_ms': 3.0, 'with_ion': False}]\n"
     ]
    }
   ],
   "source": [
    "import csv\n",
    "import h5py\n",
    "import numpy as np\n",
    "import matplotlib.pyplot as plt\n",
    "%matplotlib inline\n",
    "\n",
    "folder_name = \"data_files\"\n",
    "legend_filename = \"_legend.csv\"\n",
    "file_extension = \".h5\"\n",
    "\n",
    "###############################################\n",
    "# function to use for scaling image contrast\n",
    "def scale(value, exposure_time_in_ms):\n",
    "    # these are the min and max values recorded from the camera across all images\n",
    "    global_min_value = 135790592\n",
    "    global_max_value = 760741888\n",
    "    \n",
    "    # scaling factor per ms: increase this to brighten the images\n",
    "    scaling_factor_per_ms = 0.1\n",
    "    \n",
    "    scale_min = global_min_value\n",
    "    scale_max_per_ms = scaling_factor_per_ms * (global_max_value - global_min_value)\n",
    "    return (value - scale_min) / (scale_max_per_ms * exposure_time_in_ms)\n",
    "\n",
    "###############################################\n",
    "# read the legend file with the list of files and metadata\n",
    "with open(f'{folder_name}/{legend_filename}') as f:\n",
    "    reader = csv.reader(f)\n",
    "    legend = list(reader)\n",
    "\n",
    "file_list = [\n",
    "    { 'name': row[0],\n",
    "      'exposure_time_in_ms': float(row[1]),\n",
    "      'with_ion': row[2].upper() == 'Y' } for row in legend[1:]]\n",
    "print(file_list)\n",
    "\n",
    "###############################################\n",
    "# read all the images and store them in all_images\n",
    "all_images = { 'bright': {}, 'dark': {} }\n",
    "\n",
    "for file in file_list:    \n",
    "    f = h5py.File(f\"{folder_name}/{file['name']}{file_extension}\", 'r')\n",
    "\n",
    "    ion_state = 'bright' if file['with_ion'] else 'dark'\n",
    "    exposure_time_in_ms = file['exposure_time_in_ms']\n",
    "\n",
    "    for datapoint_idx in range(1,10):\n",
    "        try:\n",
    "            datapoint = f[\"images\"][f\"datapoint{datapoint_idx}\"]\n",
    "        except:\n",
    "            continue\n",
    "\n",
    "        for image_idx in range(100):\n",
    "            image_data = datapoint[str(image_idx)][()]\n",
    "                  \n",
    "            # scale image_data to range from 0 to 1\n",
    "            image_data = [[scale(value, exposure_time_in_ms) for value in row] for row in image_data]\n",
    "                  \n",
    "            if not exposure_time_in_ms in all_images[ion_state]:\n",
    "                all_images[ion_state][exposure_time_in_ms] = []\n",
    "            all_images[ion_state][exposure_time_in_ms].append(image_data)"
   ]
  },
  {
   "cell_type": "markdown",
   "metadata": {},
   "source": [
    "## A couple of sample images"
   ]
  },
  {
   "cell_type": "code",
   "execution_count": 2,
   "metadata": {},
   "outputs": [
    {
     "name": "stdout",
     "output_type": "stream",
     "text": [
      "[[ 0.02   0.018  0.02   0.02   0.028  0.028  0.038  0.035  0.024  0.03 ]\n",
      " [ 0.031  0.053  0.146  0.025  0.023  0.039  0.026  0.027  0.039  0.09 ]\n",
      " [ 0.033  0.045  0.043  0.114  1.023  0.04   0.09   0.763  0.496  0.027]\n",
      " [ 0.024  0.025  0.03   0.031  0.035  0.037  0.049  0.112  0.038  0.046]\n",
      " [ 0.025  0.029  0.03   0.039  0.073  0.633  1.765  0.275  0.224  0.482]\n",
      " [ 0.04   0.055  0.082  0.103  0.081  0.95   0.84   0.206  0.025  0.029]\n",
      " [ 0.03   0.028  0.034  0.022  0.033  0.049  0.092  0.387  0.367  0.035]\n",
      " [ 0.022  0.034  0.032  0.036  0.044  0.066  0.198  0.041  0.048  0.052]\n",
      " [ 0.021  0.02   0.031  0.031  0.029  0.033  0.036  0.031  0.029  0.03 ]\n",
      " [ 0.033  0.033  0.038  0.039  0.034  0.053  0.029  0.033  0.033  0.026]\n",
      " [ 0.027  0.027  0.029  0.024  0.018  0.028  0.043  0.256  0.05   0.111]]\n"
     ]
    },
    {
     "data": {
      "text/plain": [
       "<matplotlib.image.AxesImage at 0x1e6f626e080>"
      ]
     },
     "execution_count": 2,
     "metadata": {},
     "output_type": "execute_result"
    },
    {
     "data": {
      "image/png": "[encoded data removed]",
      "text/plain": [
       "<matplotlib.figure.Figure at 0x1e6f0302fd0>"
      ]
     },
     "metadata": {
      "needs_background": "light"
     },
     "output_type": "display_data"
    }
   ],
   "source": [
    "# gets the 14th sample bright image with exposure_time_in_ms=2\n",
    "sample_bright = all_images['bright'][2][14]\n",
    "print(np.round(sample_bright,3))\n",
    "plt.figure()\n",
    "plt.imshow(sample_bright, cmap=plt.get_cmap('gray'), vmin=0.0, vmax=1.0)"
   ]
  },
  {
   "cell_type": "code",
   "execution_count": 3,
   "metadata": {},
   "outputs": [
    {
     "name": "stdout",
     "output_type": "stream",
     "text": [
      "[[ 0.024  0.016  0.02   0.016  0.015  0.021  0.016  0.024  0.013  0.02 ]\n",
      " [ 0.027  0.028  0.028  0.036  0.034  0.034  0.029  0.031  0.021  0.033]\n",
      " [ 0.018  0.021  0.016  0.024  0.02   0.021  0.023  0.028  0.02   0.019]\n",
      " [ 0.017  0.023  0.021  0.023  0.021  0.031  0.034  0.032  0.024  0.018]\n",
      " [ 0.022  0.013  0.024  0.021  0.028  0.034  0.029  0.034  0.031  0.027]\n",
      " [ 0.014  0.017  0.014  0.02   0.02   0.027  0.028  0.033  0.026  0.027]\n",
      " [ 0.03   0.03   0.036  0.029  0.044  0.041  0.041  0.039  0.034  0.034]\n",
      " [ 0.023  0.025  0.025  0.022  0.035  0.036  0.03   0.036  0.036  0.034]\n",
      " [ 0.027  0.028  0.029  0.025  0.024  0.028  0.024  0.026  0.029  0.024]\n",
      " [ 0.034  0.032  0.035  0.049  0.149  0.04   0.031  0.036  0.034  0.028]\n",
      " [ 0.444  0.018  0.027  0.027  0.028  0.033  0.037  0.044  0.04   0.045]]\n"
     ]
    },
    {
     "data": {
      "text/plain": [
       "<matplotlib.image.AxesImage at 0x1e6f72c9e48>"
      ]
     },
     "execution_count": 3,
     "metadata": {},
     "output_type": "execute_result"
    },
    {
     "data": {
      "image/png": "[encoded data removed]",
      "text/plain": [
       "<matplotlib.figure.Figure at 0x1e6f0304be0>"
      ]
     },
     "metadata": {
      "needs_background": "light"
     },
     "output_type": "display_data"
    }
   ],
   "source": [
    "# gets the 14th sample dark image with exposure_time_in_ms=2\n",
    "sample_dark = all_images['dark'][2][14]\n",
    "print(np.round(sample_dark,3))\n",
    "plt.figure()\n",
    "plt.imshow(sample_dark, cmap=plt.get_cmap('gray'), vmin=0.0, vmax=1.0)"
   ]
  },
  {
   "cell_type": "markdown",
   "metadata": {},
   "source": [
    "## Mean images for each exposure time"
   ]
  },
  {
   "cell_type": "code",
   "execution_count": 4,
   "metadata": {},
   "outputs": [
    {
     "data": {
      "image/png": "[encoded data removed]",
      "text/plain": [
       "<matplotlib.figure.Figure at 0x1e6f72e8390>"
      ]
     },
     "metadata": {
      "needs_background": "light"
     },
     "output_type": "display_data"
    }
   ],
   "source": [
    "# plot the mean bright image for every exposure time\n",
    "fig, axes = plt.subplots(nrows=1, ncols=len(all_images['bright']), figsize=(16,4))\n",
    "for i, exposure_time_in_ms in enumerate(sorted(all_images['bright'])):\n",
    "    avg_image = np.mean(all_images['bright'][exposure_time_in_ms], 0)\n",
    "    #print(f'average image for exposure time {exposure_time_in_ms} ms:\\n{np.round(avg_image,3)}')\n",
    "    axes[i].imshow(avg_image, cmap=plt.get_cmap('gray'), vmin=0.0, vmax=1.0)\n",
    "    axes[i].set_title(f'{exposure_time_in_ms} ms')"
   ]
  },
  {
   "cell_type": "code",
   "execution_count": 5,
   "metadata": {},
   "outputs": [
    {
     "data": {
      "image/png": "[encoded data removed]",
      "text/plain": [
       "<matplotlib.figure.Figure at 0x1e6f7620e80>"
      ]
     },
     "metadata": {
      "needs_background": "light"
     },
     "output_type": "display_data"
    }
   ],
   "source": [
    "# plot the mean dark image for every exposure time\n",
    "fig, axes = plt.subplots(nrows=1, ncols=len(all_images['dark']), figsize=(16,4))\n",
    "for i, exposure_time_in_ms in enumerate(sorted(all_images['dark'])):\n",
    "    avg_image = np.mean(all_images['dark'][exposure_time_in_ms], 0)\n",
    "    #print(f'average image for exposure time {exposure_time_in_ms} ms:\\n{np.round(avg_image,3)}')\n",
    "    axes[i].imshow(avg_image, cmap=plt.get_cmap('gray'), vmin=0.0, vmax=1.0)\n",
    "    axes[i].set_title(f'{exposure_time_in_ms} ms')"
   ]
  }
 ],
 "metadata": {
  "kernelspec": {
   "display_name": "Python 3",
   "language": "python",
   "name": "python3"
  },
  "language_info": {
   "codemirror_mode": {
    "name": "ipython",
    "version": 3
   },
   "file_extension": ".py",
   "mimetype": "text/x-python",
   "name": "python",
   "nbconvert_exporter": "python",
   "pygments_lexer": "ipython3",
   "version": "3.6.7"
  }
 },
 "nbformat": 4,
 "nbformat_minor": 2
}
