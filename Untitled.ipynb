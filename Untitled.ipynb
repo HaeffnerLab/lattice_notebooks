{
 "cells": [
  {
   "cell_type": "code",
   "execution_count": 1,
   "metadata": {
    "Collapsed": "false"
   },
   "outputs": [],
   "source": [
    "using IonSim"
   ]
  },
  {
   "cell_type": "code",
   "execution_count": 17,
   "metadata": {
    "Collapsed": "false"
   },
   "outputs": [
    {
     "data": {
      "text/plain": [
       "2×2 Array{Array{T,1} where T,2}:\n",
       " Any[FunctionWrapper{Complex{Float64},Tuple{Float64}}(Ptr{Nothing} @0x00000001540c9980, Ptr{Nothing} @0x0000000129609fd0, RefValue{var\"#159#162\"{var\"#vt#26\"{Int64},var\"#vt#26\"{Int64},Float64}}(#159), var\"#159#162\"{var\"#vt#26\"{Int64},var\"#vt#26\"{Int64},Float64})]  …  Any[FunctionWrapper{Complex{Float64},Tuple{Float64}}(Ptr{Nothing} @0x00000001540c9980, Ptr{Nothing} @0x000000012960ae10, RefValue{var\"#159#162\"{var\"#vt#26\"{Int64},var\"#vt#26\"{Int64},Float64}}(#159), var\"#159#162\"{var\"#vt#26\"{Int64},var\"#vt#26\"{Int64},Float64})]\n",
       " Any[FunctionWrapper{Complex{Float64},Tuple{Float64}}(Ptr{Nothing} @0x00000001540c9980, Ptr{Nothing} @0x000000012964e110, RefValue{var\"#159#162\"{var\"#vt#26\"{Int64},var\"#vt#26\"{Int64},Float64}}(#159), var\"#159#162\"{var\"#vt#26\"{Int64},var\"#vt#26\"{Int64},Float64})]     Any[FunctionWrapper{Complex{Float64},Tuple{Float64}}(Ptr{Nothing} @0x00000001540c9980, Ptr{Nothing} @0x000000012964ec30, RefValue{var\"#159#162\"{var\"#vt#26\"{Int64},var\"#vt#26\"{Int64},Float64}}(#159), var\"#159#162\"{var\"#vt#26\"{Int64},var\"#vt#26\"{Int64},Float64})]"
      ]
     },
     "execution_count": 17,
     "metadata": {},
     "output_type": "execute_result"
    }
   ],
   "source": [
    " # _Ωmatrix\n",
    "C = ca40(selected_level_structure=[\"S-1/2\", \"D-1/2\"])\n",
    "C1 = ca40(selected_level_structure=[\"S+1/2\", \"D-1/2\"])\n",
    "L1 = laser(); L1.pointing = [(1, 1.0), (2, 1.0)]\n",
    "L2 = laser(); L2.pointing = [(1, 1.0), (2, 1.0)]\n",
    "L1.E = 1\n",
    "L1.ϕ = 1\n",
    "L2.E = 2\n",
    "L2.ϕ = 2\n",
    "chain = linearchain(\n",
    "        ions=[C, C1], com_frequencies=(x=3e6,y=3e6,z=1e6), selected_modes=(x=[], y=[], z=[1])\n",
    "    )\n",
    "T = trap(configuration=chain, lasers=[L1, L2])\n",
    "Ωnmkj = IonSim._Ωmatrix(T, 1)\n",
    "# @test 2 * real(Ωnmkj[1, 1][1](0.5)) ≈ real(Ωnmkj[1, 2][1](0.5))\n",
    "# @test 2 * real(Ωnmkj[2, 1][1](0.5)) ≈ real(Ωnmkj[2, 2][1](0.5))\n",
    "# @test !( real(Ωnmkj[1, 1][1](0.5)) ≈ real(Ωnmkj[2, 1][1](0.5)) )\n",
    "\n",
    "# L1.E = cos\n",
    "# L1.ϕ = 0\n",
    "# Ωnmkj = IonSim._Ωmatrix(T, 1)\n",
    "# Ω0 = real(Ωnmkj[1, 1][1](0))\n",
    "# t = 0:0.1:10\n",
    "# @test @.(real(Ωnmkj[1, 1][1](t)) / Ω0) ≈ cos.(t)\n",
    "\n",
    "# L1.E = 1\n",
    "# L1.ϕ = cos\n",
    "# Ωnmkj = IonSim._Ωmatrix(T, 1)\n",
    "# Ω0 = real(Ωnmkj[1, 1][1](0))\n",
    "# @test @.(Ωnmkj[1, 1][1](t)/Ω0) ≈ @.(exp(-1im * 2π * cos(t)))"
   ]
  },
  {
   "cell_type": "code",
   "execution_count": 21,
   "metadata": {
    "Collapsed": "false"
   },
   "outputs": [
    {
     "data": {
      "text/plain": [
       "0.0:0.1:10.0"
      ]
     },
     "execution_count": 21,
     "metadata": {},
     "output_type": "execute_result"
    }
   ],
   "source": [
    "L1.E = cos\n",
    "L1.ϕ = 0\n",
    "Ωnmkj = IonSim._Ωmatrix(T, 1)\n",
    "Ω0 = real(Ωnmkj[1, 1][1](0))\n",
    "t = 0:0.1:10\n",
    "# @test @.(real(Ωnmkj[1, 1][1](t)) / Ω0) ≈ cos.(t)"
   ]
  },
  {
   "cell_type": "code",
   "execution_count": 28,
   "metadata": {
    "Collapsed": "false"
   },
   "outputs": [
    {
     "data": {
      "text/plain": [
       "-0.0 - 0.0im"
      ]
     },
     "execution_count": 28,
     "metadata": {},
     "output_type": "execute_result"
    }
   ],
   "source": [
    "Ωnmkj[1, 1][1](2.0)"
   ]
  },
  {
   "cell_type": "code",
   "execution_count": 22,
   "metadata": {
    "Collapsed": "false"
   },
   "outputs": [
    {
     "data": {
      "text/plain": [
       "101-element Array{Float64,1}:\n",
       " NaN\n",
       " NaN\n",
       " NaN\n",
       " NaN\n",
       " NaN\n",
       " NaN\n",
       " NaN\n",
       " NaN\n",
       " NaN\n",
       " NaN\n",
       " NaN\n",
       " NaN\n",
       " NaN\n",
       "   ⋮\n",
       " NaN\n",
       " NaN\n",
       " NaN\n",
       " NaN\n",
       " NaN\n",
       " NaN\n",
       " NaN\n",
       " NaN\n",
       " NaN\n",
       " NaN\n",
       " NaN\n",
       " NaN"
      ]
     },
     "execution_count": 22,
     "metadata": {},
     "output_type": "execute_result"
    }
   ],
   "source": [
    "@.(real(Ωnmkj[1, 1][1](t)) / Ω0)"
   ]
  },
  {
   "cell_type": "code",
   "execution_count": 1,
   "metadata": {
    "Collapsed": "false"
   },
   "outputs": [],
   "source": [
    "using QuantumOptics"
   ]
  },
  {
   "cell_type": "code",
   "execution_count": 2,
   "metadata": {
    "Collapsed": "false"
   },
   "outputs": [
    {
     "data": {
      "text/plain": [
       "Spin(7/2)"
      ]
     },
     "execution_count": 2,
     "metadata": {},
     "output_type": "execute_result"
    }
   ],
   "source": [
    "b = SpinBasis(7//2)"
   ]
  },
  {
   "cell_type": "code",
   "execution_count": null,
   "metadata": {
    "Collapsed": "false"
   },
   "outputs": [],
   "source": []
  }
 ],
 "metadata": {
  "kernelspec": {
   "display_name": "Julia 1.4.2",
   "language": "julia",
   "name": "julia-1.4"
  },
  "language_info": {
   "file_extension": ".jl",
   "mimetype": "application/julia",
   "name": "julia",
   "version": "1.4.2"
  }
 },
 "nbformat": 4,
 "nbformat_minor": 4
}
