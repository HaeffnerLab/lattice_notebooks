{
 "cells": [
  {
   "cell_type": "code",
   "execution_count": 16,
   "metadata": {
    "Collapsed": "false"
   },
   "outputs": [],
   "source": [
    "using QuantumOptics\n",
    "using IonSim\n",
    "import PyPlot\n",
    "const plt = PyPlot\n",
    "using LaTeXStrings\n",
    "include(\"single_ion_vaet_helper_functions.jl\");"
   ]
  },
  {
   "cell_type": "code",
   "execution_count": 17,
   "metadata": {
    "Collapsed": "false"
   },
   "outputs": [],
   "source": [
    "# set some plot configs\n",
    "plt.matplotlib.rc(\"xtick\", top=false)\n",
    "plt.matplotlib.rc(\"ytick\", right=false, left=false)\n",
    "plt.matplotlib.rc(\"axes\", labelsize=20, titlesize=20, grid=true)\n",
    "plt.matplotlib.rc(\"axes\", linewidth=2)\n",
    "plt.matplotlib.rc(\"grid\", alpha=0.25, linestyle=\"--\")\n",
    "plt.matplotlib.rc(\"font\", family=\"Palatino\", weight=\"medium\")\n",
    "plt.matplotlib.rc(\"figure\", figsize=(8,4))\n",
    "plt.matplotlib.rc(\"xtick.major\", width=2)\n",
    "plt.matplotlib.rc(\"ytick.major\", width=2)\n",
    "plt.matplotlib.rc(\"text\", usetex=false)"
   ]
  },
  {
   "cell_type": "code",
   "execution_count": null,
   "metadata": {
    "Collapsed": "false"
   },
   "outputs": [],
   "source": []
  }
 ],
 "metadata": {
  "kernelspec": {
   "display_name": "Julia 1.6.3",
   "language": "julia",
   "name": "julia-1.6"
  },
  "language_info": {
   "file_extension": ".jl",
   "mimetype": "application/julia",
   "name": "julia",
   "version": "1.6.3"
  }
 },
 "nbformat": 4,
 "nbformat_minor": 4
}
