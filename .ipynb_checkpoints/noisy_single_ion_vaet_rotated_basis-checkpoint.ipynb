{
 "cells": [
  {
   "cell_type": "code",
   "execution_count": 1,
   "metadata": {
    "Collapsed": "false"
   },
   "outputs": [],
   "source": [
    "using QuantumOptics\n",
    "using IonSim\n",
    "import PyPlot\n",
    "const plt = PyPlot\n",
    "using LaTeXStrings\n",
    "include(\"single_ion_vaet_helper_functions.jl\");"
   ]
  },
  {
   "cell_type": "code",
   "execution_count": 297,
   "metadata": {
    "Collapsed": "false"
   },
   "outputs": [],
   "source": [
    "# set some plot configs\n",
    "plt.matplotlib.rc(\"xtick\", top=false)\n",
    "plt.matplotlib.rc(\"ytick\", right=false, left=false)\n",
    "plt.matplotlib.rc(\"axes\", labelsize=20, titlesize=20, grid=true, linewidth=2)\n",
    "plt.matplotlib.rc(\"grid\", alpha=0.25, linestyle=\"--\")\n",
    "plt.matplotlib.rc(\"font\", family=\"Palatino\", weight=\"medium\")\n",
    "plt.matplotlib.rc(\"figure\", figsize=(8,4))\n",
    "plt.matplotlib.rc(\"xtick.major\", width=2)\n",
    "plt.matplotlib.rc(\"ytick.major\", width=2)\n",
    "plt.matplotlib.rc(\"text\", usetex=false)"
   ]
  },
  {
   "cell_type": "markdown",
   "metadata": {
    "Collapsed": "false"
   },
   "source": [
    "### global simulation parameters, taken roughly from our actual experimental parameters."
   ]
  },
  {
   "cell_type": "code",
   "execution_count": 305,
   "metadata": {
    "Collapsed": "false"
   },
   "outputs": [],
   "source": [
    "νx = νy = 2.5e6  # radial trap frequencies\n",
    "νz = 1e6  # axial trap frequency\n",
    "B = 4.17e-4  # static B-field in Tesla\n",
    "B̂ = (x̂ + ẑ) / √2  # B-field direction\n",
    "N = 8  # vibrational-mode Hilbert space dimension\n",
    "elevels = (\"S-1/2\", \"D-1/2\")  # involved electronic levels\n",
    "timescale = 1e-6  # scaling of time for simulations\n",
    ";"
   ]
  },
  {
   "cell_type": "markdown",
   "metadata": {
    "Collapsed": "false"
   },
   "source": [
    "### scannable simulation parameters"
   ]
  },
  {
   "cell_type": "markdown",
   "metadata": {
    "Collapsed": "false"
   },
   "source": [
    "$ H = \\frac{J}{2}σₓ + \\frac{Δ}{2}σ_y + \\frac{κ}{2}σ_y(a + a^{†}) + ν_{eff}a^{†}a$"
   ]
  },
  {
   "cell_type": "code",
   "execution_count": 543,
   "metadata": {
    "Collapsed": "false"
   },
   "outputs": [],
   "source": [
    "J = 10e3\n",
    "Δ = 20e3\n",
    "κ = 4e3\n",
    "ν_eff = 22e3\n",
    ";"
   ]
  },
  {
   "cell_type": "markdown",
   "metadata": {
    "Collapsed": "false"
   },
   "source": [
    "### Setting up the basic Hamiltonian"
   ]
  },
  {
   "cell_type": "code",
   "execution_count": 544,
   "metadata": {
    "Collapsed": "false"
   },
   "outputs": [
    {
     "data": {
      "text/plain": [
       "2.334573659586698e6"
      ]
     },
     "execution_count": 544,
     "metadata": {},
     "output_type": "execute_result"
    }
   ],
   "source": [
    "# Ion\n",
    "C = Ca40([\"S-1/2\", \"D-1/2\"])\n",
    "# A chain of one ion(s)\n",
    "chain = LinearChain(\n",
    "        ions=[C], com_frequencies=(x=3e6,y=3e6,z=1e6), \n",
    "        vibrational_modes=(;z=[1])\n",
    "    )\n",
    "# Lasers\n",
    "L1, L2, L3 = Laser(), Laser(), Laser()\n",
    "# Putting it all together in a \"trap\"\n",
    "T = Trap(configuration=chain, B=B, Bhat=B̂, lasers=[L1, L2, L3])\n",
    "# convient reference for participating vibrational-mode\n",
    "com = T.configuration.vibrational_modes.z[1]\n",
    "# setting the vibrational-mode Hilbert space dimension\n",
    "com.N = N\n",
    "# Calculating the frequency splitting between S-1/2 and D-1/2 states\n",
    "δf = transition_frequency(T, 1, elevels)"
   ]
  },
  {
   "cell_type": "markdown",
   "metadata": {
    "Collapsed": "false"
   },
   "source": [
    "### Configuring the lasers"
   ]
  },
  {
   "cell_type": "code",
   "execution_count": 553,
   "metadata": {
    "Collapsed": "false"
   },
   "outputs": [],
   "source": [
    "# L1 will be used to drive the carrier J⋅σ_ϕ = J⋅σ_x + Δ⋅σ_y\n",
    "L1.Δ = δf\n",
    "L1.k = ẑ\n",
    "L1.ϵ = x̂\n",
    "L1.ϕ = t -> atan(Δ/J)\n",
    "# L2/L3 will be used to drive detuned 1ˢᵗ order sidebands\n",
    "L2.Δ = δf + com.ν - ν_eff\n",
    "L2.k = ẑ\n",
    "L2.ϵ = x̂\n",
    "L3.Δ = δf - com.ν + ν_eff\n",
    "L3.k = ẑ\n",
    "L3.ϵ = x̂\n",
    "L3.ϕ = t -> 1/4 * 2π\n",
    "\n",
    "η = abs(get_η(com, L2, C))\n",
    "\n",
    "# Set laser 1 electric field strength\n",
    "Ω₀ = √(J^2 + Δ^2)\n",
    "Efield_from_rabi_frequency!(Ω₀, T, 1, 1, elevels)\n",
    "# Set lasers 2,3 electric field strength\n",
    "Ω₁ = κ/η\n",
    "E = Efield_from_rabi_frequency(Ω₁, T, 2, 1, elevels)\n",
    "L2.E = L3.E = E;"
   ]
  },
  {
   "cell_type": "markdown",
   "metadata": {
    "Collapsed": "false"
   },
   "source": [
    "### Configure Hamiltonian"
   ]
  },
  {
   "cell_type": "code",
   "execution_count": 554,
   "metadata": {
    "Collapsed": "false"
   },
   "outputs": [],
   "source": [
    "h = hamiltonian(T, rwa_cutoff=Inf, lamb_dicke_order=1, timescale=timescale);"
   ]
  },
  {
   "cell_type": "markdown",
   "metadata": {
    "Collapsed": "false"
   },
   "source": [
    "### Solve for dynamics"
   ]
  },
  {
   "cell_type": "code",
   "execution_count": 555,
   "metadata": {
    "Collapsed": "false"
   },
   "outputs": [
    {
     "name": "stdout",
     "output_type": "stream",
     "text": [
      "  0.000389 seconds (1.87 k allocations: 104.656 KiB)\n"
     ]
    },
    {
     "name": "stderr",
     "output_type": "stream",
     "text": [
      "┌ Warning: First function call produced NaNs. Exiting.\n",
      "└ @ OrdinaryDiffEq /Users/josephbroz/.julia/packages/OrdinaryDiffEq/Zi9Zh/src/initdt.jl:108\n",
      "┌ Warning: Automatic dt set the starting dt as NaN, causing instability.\n",
      "└ @ OrdinaryDiffEq /Users/josephbroz/.julia/packages/OrdinaryDiffEq/Zi9Zh/src/solve.jl:510\n",
      "┌ Warning: NaN dt detected. Likely a NaN value in the state, parameters, or derivative value caused this outcome.\n",
      "└ @ SciMLBase /Users/josephbroz/.julia/packages/SciMLBase/h4Gxc/src/integrator_interface.jl:325\n"
     ]
    }
   ],
   "source": [
    "# Rotation operator for rotating in/out of alternate basis. We assume\n",
    "# the angle of rotation is always perfect, but allow for over/under rotations.\n",
    "# A perfect rotation corresponds to θ=π/2.\n",
    "θ = π/2\n",
    "Rx = DenseOperator(\n",
    "        C, \n",
    "        [cos(θ/2)       -1im*sin(θ/2);\n",
    "         -1im*sin(θ/2)  cos(θ/2)]\n",
    ")\n",
    "\n",
    "θ *= -1\n",
    "Rx_return = DenseOperator(\n",
    "        C, \n",
    "        [cos(θ/2)       -1im*sin(θ/2);\n",
    "         -1im*sin(θ/2)  cos(θ/2)]\n",
    ")\n",
    "\n",
    "# initial state\n",
    "ψᵢ = (Rx * C[\"S-1/2\"]) ⊗ fockstate(com, 0)\n",
    "\n",
    "# time-evolve\n",
    "tspan = 0:1:1000\n",
    "@time _, sol = timeevolution.schroedinger_dynamic(tspan, ψᵢ, h)\n",
    "\n",
    "# apply rotation out to result\n",
    "map!(x -> (Rx_return ⊗ one(com)) * x, sol, sol)\n",
    ";"
   ]
  },
  {
   "cell_type": "code",
   "execution_count": 556,
   "metadata": {
    "Collapsed": "false"
   },
   "outputs": [
    {
     "ename": "LoadError",
     "evalue": "PyError ($(Expr(:escape, :(ccall(#= /Users/josephbroz/.julia/packages/PyCall/3fwVL/src/pyfncall.jl:43 =# @pysym(:PyObject_Call), PyPtr, (PyPtr, PyPtr, PyPtr), o, pyargsptr, kw))))) <class 'ValueError'>\nValueError('x and y must have same first dimension, but have shapes (1001,) and (0,)')\n  File \"/Users/josephbroz/.julia/conda/3/lib/python3.7/site-packages/matplotlib/pyplot.py\", line 2796, in plot\n    is not None else {}), **kwargs)\n  File \"/Users/josephbroz/.julia/conda/3/lib/python3.7/site-packages/matplotlib/axes/_axes.py\", line 1665, in plot\n    lines = [*self._get_lines(*args, data=data, **kwargs)]\n  File \"/Users/josephbroz/.julia/conda/3/lib/python3.7/site-packages/matplotlib/axes/_base.py\", line 225, in __call__\n    yield from self._plot_args(this, kwargs)\n  File \"/Users/josephbroz/.julia/conda/3/lib/python3.7/site-packages/matplotlib/axes/_base.py\", line 391, in _plot_args\n    x, y = self._xy_from_xy(x, y)\n  File \"/Users/josephbroz/.julia/conda/3/lib/python3.7/site-packages/matplotlib/axes/_base.py\", line 270, in _xy_from_xy\n    \"have shapes {} and {}\".format(x.shape, y.shape))\n",
     "output_type": "error",
     "traceback": [
      "PyError ($(Expr(:escape, :(ccall(#= /Users/josephbroz/.julia/packages/PyCall/3fwVL/src/pyfncall.jl:43 =# @pysym(:PyObject_Call), PyPtr, (PyPtr, PyPtr, PyPtr), o, pyargsptr, kw))))) <class 'ValueError'>\nValueError('x and y must have same first dimension, but have shapes (1001,) and (0,)')\n  File \"/Users/josephbroz/.julia/conda/3/lib/python3.7/site-packages/matplotlib/pyplot.py\", line 2796, in plot\n    is not None else {}), **kwargs)\n  File \"/Users/josephbroz/.julia/conda/3/lib/python3.7/site-packages/matplotlib/axes/_axes.py\", line 1665, in plot\n    lines = [*self._get_lines(*args, data=data, **kwargs)]\n  File \"/Users/josephbroz/.julia/conda/3/lib/python3.7/site-packages/matplotlib/axes/_base.py\", line 225, in __call__\n    yield from self._plot_args(this, kwargs)\n  File \"/Users/josephbroz/.julia/conda/3/lib/python3.7/site-packages/matplotlib/axes/_base.py\", line 391, in _plot_args\n    x, y = self._xy_from_xy(x, y)\n  File \"/Users/josephbroz/.julia/conda/3/lib/python3.7/site-packages/matplotlib/axes/_base.py\", line 270, in _xy_from_xy\n    \"have shapes {} and {}\".format(x.shape, y.shape))\n",
      "",
      "Stacktrace:",
      "  [1] pyerr_check",
      "    @ ~/.julia/packages/PyCall/3fwVL/src/exception.jl:62 [inlined]",
      "  [2] pyerr_check",
      "    @ ~/.julia/packages/PyCall/3fwVL/src/exception.jl:66 [inlined]",
      "  [3] _handle_error(msg::String)",
      "    @ PyCall ~/.julia/packages/PyCall/3fwVL/src/exception.jl:83",
      "  [4] macro expansion",
      "    @ ~/.julia/packages/PyCall/3fwVL/src/exception.jl:97 [inlined]",
      "  [5] #107",
      "    @ ~/.julia/packages/PyCall/3fwVL/src/pyfncall.jl:43 [inlined]",
      "  [6] disable_sigint",
      "    @ ./c.jl:458 [inlined]",
      "  [7] __pycall!",
      "    @ ~/.julia/packages/PyCall/3fwVL/src/pyfncall.jl:42 [inlined]",
      "  [8] _pycall!(ret::PyCall.PyObject, o::PyCall.PyObject, args::Tuple{StepRange{Int64, Int64}, Vector{Float64}}, nargs::Int64, kw::Ptr{Nothing})",
      "    @ PyCall ~/.julia/packages/PyCall/3fwVL/src/pyfncall.jl:29",
      "  [9] _pycall!(ret::PyCall.PyObject, o::PyCall.PyObject, args::Tuple{StepRange{Int64, Int64}, Vector{Float64}}, kwargs::Base.Iterators.Pairs{Union{}, Union{}, Tuple{}, NamedTuple{(), Tuple{}}})",
      "    @ PyCall ~/.julia/packages/PyCall/3fwVL/src/pyfncall.jl:11",
      " [10] pycall(::PyCall.PyObject, ::Type{PyCall.PyAny}, ::StepRange{Int64, Int64}, ::Vararg{Any, N} where N; kwargs::Base.Iterators.Pairs{Union{}, Union{}, Tuple{}, NamedTuple{(), Tuple{}}})",
      "    @ PyCall ~/.julia/packages/PyCall/3fwVL/src/pyfncall.jl:83",
      " [11] pycall(::PyCall.PyObject, ::Type{PyCall.PyAny}, ::StepRange{Int64, Int64}, ::Vararg{Any, N} where N)",
      "    @ PyCall ~/.julia/packages/PyCall/3fwVL/src/pyfncall.jl:83",
      " [12] plot(::StepRange{Int64, Int64}, ::Vararg{Any, N} where N; kws::Base.Iterators.Pairs{Union{}, Union{}, Tuple{}, NamedTuple{(), Tuple{}}})",
      "    @ PyPlot ~/.julia/packages/PyPlot/XaELc/src/PyPlot.jl:177",
      " [13] plot(::StepRange{Int64, Int64}, ::Vararg{Any, N} where N)",
      "    @ PyPlot ~/.julia/packages/PyPlot/XaELc/src/PyPlot.jl:174",
      " [14] top-level scope",
      "    @ In[556]:1",
      " [15] eval",
      "    @ ./boot.jl:360 [inlined]",
      " [16] include_string(mapexpr::typeof(REPL.softscope), mod::Module, code::String, filename::String)",
      "    @ Base ./loading.jl:1116"
     ]
    }
   ],
   "source": [
    "plt.plot(tspan, real.(expect(ionprojector(chain, \"D-1/2\"), sol)))\n",
    "plt.ylabel(\"Ion Excitation\")\n",
    "plt.xlabel(\"Time (μs)\")\n",
    "plt.ylim(0, 1)\n",
    "plt.xlim(tspan[1], tspan[end])\n",
    "# plt.xlim(0, 50)\n",
    "plt.show()"
   ]
  },
  {
   "cell_type": "code",
   "execution_count": 530,
   "metadata": {
    "Collapsed": "false"
   },
   "outputs": [
    {
     "data": {
      "text/plain": [
       "35714.28571428572"
      ]
     },
     "execution_count": 530,
     "metadata": {},
     "output_type": "execute_result"
    }
   ],
   "source": [
    "1/2.8e-5"
   ]
  },
  {
   "cell_type": "code",
   "execution_count": null,
   "metadata": {
    "Collapsed": "false"
   },
   "outputs": [],
   "source": []
  },
  {
   "cell_type": "code",
   "execution_count": null,
   "metadata": {
    "Collapsed": "false"
   },
   "outputs": [],
   "source": []
  }
 ],
 "metadata": {
  "kernelspec": {
   "display_name": "Julia 1.6.3",
   "language": "julia",
   "name": "julia-1.6"
  },
  "language_info": {
   "file_extension": ".jl",
   "mimetype": "application/julia",
   "name": "julia",
   "version": "1.6.3"
  }
 },
 "nbformat": 4,
 "nbformat_minor": 4
}
