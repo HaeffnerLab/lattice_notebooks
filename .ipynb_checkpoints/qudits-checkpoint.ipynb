{
 "cells": [
  {
   "cell_type": "code",
   "execution_count": 1,
   "metadata": {
    "Collapsed": "false"
   },
   "outputs": [],
   "source": [
    "using Revise\n",
    "using IonSim\n",
    "# using SymEngine\n",
    "using SymPy"
   ]
  },
  {
   "cell_type": "markdown",
   "metadata": {
    "Collapsed": "true"
   },
   "source": [
    "# SymEngine stuff"
   ]
  },
  {
   "cell_type": "code",
   "execution_count": 2,
   "metadata": {
    "Collapsed": "false"
   },
   "outputs": [],
   "source": [
    "s(a) = symbols(a);"
   ]
  },
  {
   "cell_type": "code",
   "execution_count": 3,
   "metadata": {
    "Collapsed": "false"
   },
   "outputs": [
    {
     "data": {
      "text/plain": [
       "6×6 Array{Basic,2}:\n",
       "  Δ1    0  J12    0    0    0\n",
       "   0   Δ1    0  J12    0    0\n",
       " J12    0   Δ2    0  J23    0\n",
       "   0  J12    0   Δ2    0  J23\n",
       "   0    0  J23    0   Δ3    0\n",
       "   0    0    0  J23    0   Δ3"
      ]
     },
     "execution_count": 3,
     "metadata": {},
     "output_type": "execute_result"
    }
   ],
   "source": [
    "Hf = [s(\"Δ1\") 0 s(\"J12\") 0 0 0;\n",
    "      0 s(\"Δ1\") 0 s(\"J12\") 0 0 ;\n",
    "      s(\"J12\") 0 s(\"Δ2\") 0 s(\"J23\") 0;\n",
    "      0 s(\"J12\") 0 s(\"Δ2\") 0 s(\"J23\");\n",
    "      0 0 s(\"J23\") 0 s(\"Δ3\") 0;\n",
    "      0 0 0 s(\"J23\") 0 s(\"Δ3\")\n",
    "]"
   ]
  },
  {
   "cell_type": "code",
   "execution_count": 5,
   "metadata": {
    "Collapsed": "false"
   },
   "outputs": [
    {
     "data": {
      "text/plain": [
       "6×6 Array{Basic,2}:\n",
       "  u11      0  ur12  -ui12     0      0\n",
       "    0    u11  ui12   ur12     0      0\n",
       " ur21  -ui21   u22      0  ur23  -ui23\n",
       " ui21   ur21     0    u22  ui23   ur23\n",
       "    0    0.0  ur32  -ui32   u33      0\n",
       "  0.0    0.0  ui32   ur32   0.0    u33"
      ]
     },
     "execution_count": 5,
     "metadata": {},
     "output_type": "execute_result"
    }
   ],
   "source": [
    "U = [\n",
    "    s(\"u11\")      0       s(\"ur12\") -s(\"ui12\")     0         0;\n",
    "        0      s(\"u11\")   s(\"ui12\")  s(\"ur12\")     0         0;\n",
    "    s(\"ur21\") -s(\"ui21\")  s(\"u22\")       0      s(\"ur23\") -s(\"ui23\");\n",
    "    s(\"ui21\")  s(\"ur21\")      0       s(\"u22\")  s(\"ui23\")  s(\"ur23\");\n",
    "        0         0.      s(\"ur32\")  -s(\"ui32\") s(\"u33\")     0;\n",
    "        0.        0.      s(\"ui32\")   s(\"ur32\")    0.      s(\"u33\")\n",
    "]"
   ]
  },
  {
   "cell_type": "code",
   "execution_count": 7,
   "metadata": {
    "Collapsed": "false"
   },
   "outputs": [],
   "source": [
    "full = U * Hf * transpose(U);"
   ]
  },
  {
   "cell_type": "code",
   "execution_count": 9,
   "metadata": {
    "Collapsed": "false"
   },
   "outputs": [
    {
     "data": {
      "text/plain": [
       "b"
      ]
     },
     "execution_count": 9,
     "metadata": {},
     "output_type": "execute_result"
    }
   ],
   "source": [
    "a = s(\"a\"); b = s(\"b\")"
   ]
  },
  {
   "cell_type": "code",
   "execution_count": 50,
   "metadata": {
    "Collapsed": "false"
   },
   "outputs": [],
   "source": [
    "ψ1 = [s(\"αr₁\") + IM * s(\"αi₁\"), s(\"βr₁\") + IM * s(\"βi₁\"), s(\"γr₁\") + IM * s(\"γi₁\")] \n",
    "ψ2 = [s(\"αr₂\") + IM * s(\"αi₂\"), s(\"βr₂\") + IM * s(\"βi₂\"), s(\"γr₂\") + IM * s(\"γi₂\")] \n",
    "ψ3 = [s(\"αr₃\") + IM * s(\"αi₃\"), s(\"βr₃\") + IM * s(\"βi₃\"), s(\"γr₃\") + IM * s(\"γi₃\")]\n",
    "ψ1t = transpose([s(\"αr₁\") - IM * s(\"αi₁\"), s(\"βr₁\") - IM * s(\"βi₁\"), s(\"γr₁\") - IM * s(\"γi₁\")])\n",
    "ψ2t = transpose([s(\"αr₂\") - IM * s(\"αi₂\"), s(\"βr₂\") - IM * s(\"βi₂\"), s(\"γr₂\") - IM * s(\"γi₂\")]) \n",
    "ψ3t = transpose([s(\"αr₃\") - IM * s(\"αi₃\"), s(\"βr₃\") - IM * s(\"βi₃\"), s(\"γr₃\") - IM * s(\"γi₃\")]);"
   ]
  },
  {
   "cell_type": "code",
   "execution_count": 52,
   "metadata": {
    "Collapsed": "false"
   },
   "outputs": [],
   "source": [
    "HL = s(\"Δ₁\") * ψ1 * ψ1t + s(\"Δ₂\") * ψ2 * ψ2t + s(\"Δ₃\") * ψ3 * ψ3t + s(\"J₁₂\") * (ψ1 * ψ2t + ψ2 * ψ1t) + s(\"J₂₃\") * (ψ2 * ψ3t + ψ3 * ψ2t);"
   ]
  },
  {
   "cell_type": "code",
   "execution_count": 57,
   "metadata": {
    "Collapsed": "false"
   },
   "outputs": [
    {
     "data": {
      "text/plain": [
       "Δ₁*αi₁*γi₁ - im*Δ₁*γi₁*αr₁ + im*Δ₁*γr₁*αi₁ + Δ₁*γr₁*αr₁ + Δ₂*αi₂*γi₂ - im*Δ₂*γi₂*αr₂ + im*Δ₂*γr₂*αi₂ + Δ₂*γr₂*αr₂ + Δ₃*αi₃*γi₃ - im*Δ₃*γi₃*αr₃ + im*Δ₃*γr₃*αi₃ + Δ₃*γr₃*αr₃ + αi₁*γi₂*J₁₂ + αi₂*γi₁*J₁₂ + αi₂*γi₃*J₂₃ + αi₃*γi₂*J₂₃ - im*γi₁*αr₂*J₁₂ - im*γi₂*αr₁*J₁₂ - im*γi₂*αr₃*J₂₃ - im*γi₃*αr₂*J₂₃ + im*γr₁*αi₂*J₁₂ + γr₁*αr₂*J₁₂ + im*γr₂*αi₁*J₁₂ + im*γr₂*αi₃*J₂₃ + γr₂*αr₁*J₁₂ + γr₂*αr₃*J₂₃ + im*γr₃*αi₂*J₂₃ + γr₃*αr₂*J₂₃"
      ]
     },
     "execution_count": 57,
     "metadata": {},
     "output_type": "execute_result"
    }
   ],
   "source": [
    "expand(HL[1,3])"
   ]
  },
  {
   "cell_type": "markdown",
   "metadata": {
    "Collapsed": "false"
   },
   "source": [
    "# SymPy stuff"
   ]
  },
  {
   "cell_type": "code",
   "execution_count": 2,
   "metadata": {
    "Collapsed": "false"
   },
   "outputs": [
    {
     "data": {
      "text/plain": [
       "(J₁₂, J₂₃, Δ₂, Δ₃)"
      ]
     },
     "execution_count": 2,
     "metadata": {},
     "output_type": "execute_result"
    }
   ],
   "source": [
    "@vars J₁₂ J₂₃ Δ₂ Δ₃"
   ]
  },
  {
   "cell_type": "code",
   "execution_count": 8,
   "metadata": {
    "Collapsed": "false"
   },
   "outputs": [
    {
     "data": {
      "text/latex": [
       "\\[\\left[ \\begin{array}{rrr}0&J₁₂&0\\\\J₁₂&Δ₂&J₂₃\\\\0&J₂₃&Δ₃\\end{array}\\right]\\]"
      ],
      "text/plain": [
       "3×3 Array{Sym,2}:\n",
       "   0  J₁₂    0\n",
       " J₁₂   Δ₂  J₂₃\n",
       "   0  J₂₃   Δ₃"
      ]
     },
     "execution_count": 8,
     "metadata": {},
     "output_type": "execute_result"
    }
   ],
   "source": [
    "Hf = sympy.Matrix([[0 J₁₂ 0]; [J₁₂ Δ₂ J₂₃]; [0 J₂₃ Δ₃]])"
   ]
  },
  {
   "cell_type": "code",
   "execution_count": 16,
   "metadata": {
    "Collapsed": "false"
   },
   "outputs": [
    {
     "data": {
      "text/plain": [
       "Dict{Any,Any} with 3 entries:\n",
       "  Δ₂/3 + Δ₃/3 - (3*J₁₂^2 + 3*J₂₃^2 - 3*Δ₂*Δ₃ + (-Δ₂ - Δ₃)^2)/(3*(-1/2 + sq… => 1\n",
       "  Δ₂/3 + Δ₃/3 - (3*J₁₂^2 + 3*J₂₃^2 - 3*Δ₂*Δ₃ + (-Δ₂ - Δ₃)^2)/(3*(-1/2 - sq… => 1\n",
       "  Δ₂/3 + Δ₃/3 - (3*J₁₂^2 + 3*J₂₃^2 - 3*Δ₂*Δ₃ + (-Δ₂ - Δ₃)^2)/(3*(27*J₁₂^2*… => 1"
      ]
     },
     "execution_count": 16,
     "metadata": {},
     "output_type": "execute_result"
    }
   ],
   "source": [
    "evecs = Hf.eigenvects()\n",
    "evals = Hf.eigenvals()"
   ]
  },
  {
   "cell_type": "code",
   "execution_count": 21,
   "metadata": {
    "Collapsed": "false"
   },
   "outputs": [
    {
     "data": {
      "text/latex": [
       "\\begin{equation*}\\frac{Δ₂}{3} + \\frac{Δ₃}{3} - \\frac{3 J₁₂^{2} + 3 J₂₃^{2} - 3 Δ₂ Δ₃ + \\left(- Δ₂ - Δ₃\\right)^{2}}{3 \\left(- \\frac{1}{2} + \\frac{\\sqrt{3} i}{2}\\right) \\sqrt[3]{\\frac{27 J₁₂^{2} Δ₃}{2} - \\frac{\\left(- 9 Δ₂ - 9 Δ₃\\right) \\left(- J₁₂^{2} - J₂₃^{2} + Δ₂ Δ₃\\right)}{2} + \\left(- Δ₂ - Δ₃\\right)^{3} + \\frac{\\sqrt{\\left(27 J₁₂^{2} Δ₃ - \\left(- 9 Δ₂ - 9 Δ₃\\right) \\left(- J₁₂^{2} - J₂₃^{2} + Δ₂ Δ₃\\right) + 2 \\left(- Δ₂ - Δ₃\\right)^{3}\\right)^{2} - 4 \\left(3 J₁₂^{2} + 3 J₂₃^{2} - 3 Δ₂ Δ₃ + \\left(- Δ₂ - Δ₃\\right)^{2}\\right)^{3}}}{2}}} - \\frac{\\left(- \\frac{1}{2} + \\frac{\\sqrt{3} i}{2}\\right) \\sqrt[3]{\\frac{27 J₁₂^{2} Δ₃}{2} - \\frac{\\left(- 9 Δ₂ - 9 Δ₃\\right) \\left(- J₁₂^{2} - J₂₃^{2} + Δ₂ Δ₃\\right)}{2} + \\left(- Δ₂ - Δ₃\\right)^{3} + \\frac{\\sqrt{\\left(27 J₁₂^{2} Δ₃ - \\left(- 9 Δ₂ - 9 Δ₃\\right) \\left(- J₁₂^{2} - J₂₃^{2} + Δ₂ Δ₃\\right) + 2 \\left(- Δ₂ - Δ₃\\right)^{3}\\right)^{2} - 4 \\left(3 J₁₂^{2} + 3 J₂₃^{2} - 3 Δ₂ Δ₃ + \\left(- Δ₂ - Δ₃\\right)^{2}\\right)^{3}}}{2}}}{3}\\end{equation*}"
      ],
      "text/plain": [
       "                                                                              \n",
       "                                                                              \n",
       "                                                                              \n",
       "                                                                              \n",
       "                                                                              \n",
       "                                                                              \n",
       "Δ₂   Δ₃                                                                       \n",
       "── + ── - ────────────────────────────────────────────────────────────────────\n",
       "3    3                          ______________________________________________\n",
       "                               ╱                                              \n",
       "                              ╱                                               \n",
       "                             ╱         2                     ⎛     2      2   \n",
       "            ⎛  1   √3⋅ⅈ⎞    ╱    27⋅J₁₂ ⋅Δ₃   (-9⋅Δ₂ - 9⋅Δ₃)⋅⎝- J₁₂  - J₂₃  + \n",
       "          3⋅⎜- ─ + ────⎟⋅3 ╱     ────────── - ────────────────────────────────\n",
       "            ⎝  2    2  ⎠ ╲╱          2                          2             \n",
       "\n",
       "                                                                              \n",
       "                                                                              \n",
       "                                                                              \n",
       "                                                                              \n",
       "                                                                              \n",
       "                         2        2                       2                   \n",
       "                    3⋅J₁₂  + 3⋅J₂₃  - 3⋅Δ₂⋅Δ₃ + (-Δ₂ - Δ₃)                    \n",
       "──────────────────────────────────────────────────────────────────────────────\n",
       "______________________________________________________________________________\n",
       "                           ___________________________________________________\n",
       "                          ╱                                                   \n",
       "     ⎞                   ╱  ⎛      2                     ⎛     2      2       \n",
       "Δ₂⋅Δ₃⎠             3   ╲╱   ⎝27⋅J₁₂ ⋅Δ₃ - (-9⋅Δ₂ - 9⋅Δ₃)⋅⎝- J₁₂  - J₂₃  + Δ₂⋅Δ\n",
       "────── + (-Δ₂ - Δ₃)  + ───────────────────────────────────────────────────────\n",
       "                                                                              \n",
       "\n",
       "                                                                              \n",
       "                                                                              \n",
       "                                                                              \n",
       "                                                                              \n",
       "                                                                        ⎛  1  \n",
       "                                                                        ⎜- ─ +\n",
       "                                                                        ⎝  2  \n",
       "───────────────────────────────────────────────────────────────────── - ──────\n",
       "_____________________________________________________________________         \n",
       "____________________________________________________________________          \n",
       "                   2                                              3           \n",
       " ⎞               3⎞      ⎛     2        2                       2⎞            \n",
       "₃⎠ + 2⋅(-Δ₂ - Δ₃) ⎠  - 4⋅⎝3⋅J₁₂  + 3⋅J₂₃  - 3⋅Δ₂⋅Δ₃ + (-Δ₂ - Δ₃) ⎠            \n",
       "────────────────────────────────────────────────────────────────────          \n",
       "      2                                                                       \n",
       "\n",
       "              ________________________________________________________________\n",
       "             ╱                                                                \n",
       "            ╱                                                                 \n",
       "           ╱         2                     ⎛     2      2        ⎞            \n",
       " √3⋅ⅈ⎞    ╱    27⋅J₁₂ ⋅Δ₃   (-9⋅Δ₂ - 9⋅Δ₃)⋅⎝- J₁₂  - J₂₃  + Δ₂⋅Δ₃⎠            \n",
       " ────⎟⋅3 ╱     ────────── - ────────────────────────────────────── + (-Δ₂ - Δ₃\n",
       "  2  ⎠ ╲╱          2                          2                               \n",
       "──────────────────────────────────────────────────────────────────────────────\n",
       "                                                                              \n",
       "                                                                              \n",
       "                                                                              \n",
       "                                                                              \n",
       "                                                                              \n",
       "                                                                              \n",
       "                                                                              \n",
       "\n",
       "______________________________________________________________________________\n",
       "         _____________________________________________________________________\n",
       "        ╱                                                                     \n",
       "       ╱  ⎛      2                     ⎛     2      2        ⎞               3\n",
       " 3   ╲╱   ⎝27⋅J₁₂ ⋅Δ₃ - (-9⋅Δ₂ - 9⋅Δ₃)⋅⎝- J₁₂  - J₂₃  + Δ₂⋅Δ₃⎠ + 2⋅(-Δ₂ - Δ₃) \n",
       ")  + ─────────────────────────────────────────────────────────────────────────\n",
       "                                                                  2           \n",
       "──────────────────────────────────────────────────────────────────────────────\n",
       "                      3                                                       \n",
       "                                                                              \n",
       "                                                                              \n",
       "                                                                              \n",
       "                                                                              \n",
       "                                                                              \n",
       "                                                                              \n",
       "\n",
       "___________________________________________________\n",
       "__________________________________________________ \n",
       " 2                                              3  \n",
       "⎞      ⎛     2        2                       2⎞   \n",
       "⎠  - 4⋅⎝3⋅J₁₂  + 3⋅J₂₃  - 3⋅Δ₂⋅Δ₃ + (-Δ₂ - Δ₃) ⎠   \n",
       "────────────────────────────────────────────────── \n",
       "                                                   \n",
       "───────────────────────────────────────────────────\n",
       "                                                   \n",
       "                                                   \n",
       "                                                   \n",
       "                                                   \n",
       "                                                   \n",
       "                                                   \n",
       "                                                   "
      ]
     },
     "execution_count": 21,
     "metadata": {},
     "output_type": "execute_result"
    }
   ],
   "source": [
    "collect(keys(evals))[1]"
   ]
  },
  {
   "cell_type": "code",
   "execution_count": 23,
   "metadata": {
    "Collapsed": "false"
   },
   "outputs": [
    {
     "data": {
      "text/latex": [
       "\\begin{equation*}\\frac{Δ₃}{3} - \\frac{3 J₁₂^{2} + 3 J₂₃^{2} - 3 Δ₃ + \\left(- Δ₃ - 1\\right)^{2}}{3 \\left(- \\frac{1}{2} + \\frac{\\sqrt{3} i}{2}\\right) \\sqrt[3]{\\frac{27 J₁₂^{2} Δ₃}{2} - \\frac{\\left(- 9 Δ₃ - 9\\right) \\left(- J₁₂^{2} - J₂₃^{2} + Δ₃\\right)}{2} + \\left(- Δ₃ - 1\\right)^{3} + \\frac{\\sqrt{\\left(27 J₁₂^{2} Δ₃ - \\left(- 9 Δ₃ - 9\\right) \\left(- J₁₂^{2} - J₂₃^{2} + Δ₃\\right) + 2 \\left(- Δ₃ - 1\\right)^{3}\\right)^{2} - 4 \\left(3 J₁₂^{2} + 3 J₂₃^{2} - 3 Δ₃ + \\left(- Δ₃ - 1\\right)^{2}\\right)^{3}}}{2}}} - \\frac{\\left(- \\frac{1}{2} + \\frac{\\sqrt{3} i}{2}\\right) \\sqrt[3]{\\frac{27 J₁₂^{2} Δ₃}{2} - \\frac{\\left(- 9 Δ₃ - 9\\right) \\left(- J₁₂^{2} - J₂₃^{2} + Δ₃\\right)}{2} + \\left(- Δ₃ - 1\\right)^{3} + \\frac{\\sqrt{\\left(27 J₁₂^{2} Δ₃ - \\left(- 9 Δ₃ - 9\\right) \\left(- J₁₂^{2} - J₂₃^{2} + Δ₃\\right) + 2 \\left(- Δ₃ - 1\\right)^{3}\\right)^{2} - 4 \\left(3 J₁₂^{2} + 3 J₂₃^{2} - 3 Δ₃ + \\left(- Δ₃ - 1\\right)^{2}\\right)^{3}}}{2}}}{3} + \\frac{1}{3}\\end{equation*}"
      ],
      "text/plain": [
       "                                                                              \n",
       "                                                                              \n",
       "                                                                              \n",
       "                                                                              \n",
       "                                                                              \n",
       "                                                                              \n",
       "Δ₃                                                                            \n",
       "── - ─────────────────────────────────────────────────────────────────────────\n",
       "3                          ___________________________________________________\n",
       "                          ╱                                                   \n",
       "                         ╱                                                    \n",
       "                        ╱         2                  ⎛     2      2     ⎞     \n",
       "       ⎛  1   √3⋅ⅈ⎞    ╱    27⋅J₁₂ ⋅Δ₃   (-9⋅Δ₃ - 9)⋅⎝- J₁₂  - J₂₃  + Δ₃⎠     \n",
       "     3⋅⎜- ─ + ────⎟⋅3 ╱     ────────── - ──────────────────────────────── + (-\n",
       "       ⎝  2    2  ⎠ ╲╱          2                       2                     \n",
       "\n",
       "                                                                              \n",
       "                                                                              \n",
       "                                                                              \n",
       "                                                                              \n",
       "                                                                              \n",
       "             2        2                   2                                   \n",
       "        3⋅J₁₂  + 3⋅J₂₃  - 3⋅Δ₃ + (-Δ₃ - 1)                                    \n",
       "──────────────────────────────────────────────────────────────────────────────\n",
       "______________________________________________________________________________\n",
       "               _______________________________________________________________\n",
       "              ╱                                                               \n",
       "             ╱  ⎛      2                  ⎛     2      2     ⎞              3⎞\n",
       "       3   ╲╱   ⎝27⋅J₁₂ ⋅Δ₃ - (-9⋅Δ₃ - 9)⋅⎝- J₁₂  - J₂₃  + Δ₃⎠ + 2⋅(-Δ₃ - 1) ⎠\n",
       "Δ₃ - 1)  + ───────────────────────────────────────────────────────────────────\n",
       "                                                                  2           \n",
       "\n",
       "                                                                     _________\n",
       "                                                                    ╱         \n",
       "                                                                   ╱          \n",
       "                                                                  ╱         2 \n",
       "                                                 ⎛  1   √3⋅ⅈ⎞    ╱    27⋅J₁₂ ⋅\n",
       "                                                 ⎜- ─ + ────⎟⋅3 ╱     ────────\n",
       "                                                 ⎝  2    2  ⎠ ╲╱          2   \n",
       "────────────────────────────────────────────── - ─────────────────────────────\n",
       "______________________________________________                                \n",
       "_____________________________________________                                 \n",
       "2                                          3                                  \n",
       "      ⎛     2        2                   2⎞                                   \n",
       "  - 4⋅⎝3⋅J₁₂  + 3⋅J₂₃  - 3⋅Δ₃ + (-Δ₃ - 1) ⎠                                   \n",
       "─────────────────────────────────────────────                                 \n",
       "                                                                              \n",
       "\n",
       "______________________________________________________________________________\n",
       "                                                         _____________________\n",
       "                                                        ╱                     \n",
       "                 ⎛     2      2     ⎞                  ╱  ⎛      2            \n",
       "Δ₃   (-9⋅Δ₃ - 9)⋅⎝- J₁₂  - J₂₃  + Δ₃⎠            3   ╲╱   ⎝27⋅J₁₂ ⋅Δ₃ - (-9⋅Δ₃\n",
       "── - ──────────────────────────────── + (-Δ₃ - 1)  + ─────────────────────────\n",
       "                    2                                                         \n",
       "──────────────────────────────────────────────────────────────────────────────\n",
       "                                                                    3         \n",
       "                                                                              \n",
       "                                                                              \n",
       "                                                                              \n",
       "                                                                              \n",
       "                                                                              \n",
       "                                                                              \n",
       "\n",
       "______________________________________________________________________________\n",
       "______________________________________________________________________________\n",
       "                                          2                                   \n",
       "      ⎛     2      2     ⎞              3⎞      ⎛     2        2              \n",
       " - 9)⋅⎝- J₁₂  - J₂₃  + Δ₃⎠ + 2⋅(-Δ₃ - 1) ⎠  - 4⋅⎝3⋅J₁₂  + 3⋅J₂₃  - 3⋅Δ₃ + (-Δ₃\n",
       "──────────────────────────────────────────────────────────────────────────────\n",
       "                              2                                               \n",
       "──────────────────────────────────────────────────────────────────────────────\n",
       "                                                                              \n",
       "                                                                              \n",
       "                                                                              \n",
       "                                                                              \n",
       "                                                                              \n",
       "                                                                              \n",
       "                                                                              \n",
       "\n",
       "__________    \n",
       "_________     \n",
       "       3      \n",
       "     2⎞       \n",
       " - 1) ⎠       \n",
       "─────────     \n",
       "             1\n",
       "────────── + ─\n",
       "             3\n",
       "              \n",
       "              \n",
       "              \n",
       "              \n",
       "              \n",
       "              "
      ]
     },
     "execution_count": 23,
     "metadata": {},
     "output_type": "execute_result"
    }
   ],
   "source": [
    "subs(collect(keys(evals))[1], (Δ₂, 1))"
   ]
  },
  {
   "cell_type": "code",
   "execution_count": 43,
   "metadata": {
    "Collapsed": "false"
   },
   "outputs": [
    {
     "data": {
      "text/latex": [
       "\\begin{equation*}1\\end{equation*}"
      ],
      "text/plain": [
       "1"
      ]
     },
     "execution_count": 43,
     "metadata": {},
     "output_type": "execute_result"
    }
   ],
   "source": [
    "evecs[1][3][1][3]"
   ]
  },
  {
   "cell_type": "code",
   "execution_count": 52,
   "metadata": {
    "Collapsed": "false"
   },
   "outputs": [
    {
     "data": {
      "text/plain": [
       "(Ω₁, Ω₂, δ₁, δ₂, Δ₁)"
      ]
     },
     "execution_count": 52,
     "metadata": {},
     "output_type": "execute_result"
    }
   ],
   "source": [
    "@vars Ω₁ Ω₂ δ₁ δ₂ Δ₁"
   ]
  },
  {
   "cell_type": "code",
   "execution_count": 47,
   "metadata": {
    "Collapsed": "false"
   },
   "outputs": [
    {
     "data": {
      "text/latex": [
       "\\[\\left[ \\begin{array}{rrr}0&Ω₁ - i δ₁&0\\\\Ω₁ + i δ₁&0&Ω₂ + i δ₂\\\\0&Ω₂ - i δ₂&0\\end{array}\\right]\\]"
      ],
      "text/plain": [
       "3×3 Array{Sym,2}:\n",
       "         0  Ω₁ - I*δ₁          0\n",
       " Ω₁ + I*δ₁          0  Ω₂ + I*δ₂\n",
       "         0  Ω₂ - I*δ₂          0"
      ]
     },
     "execution_count": 47,
     "metadata": {},
     "output_type": "execute_result"
    }
   ],
   "source": [
    "HL = sympy.Matrix([[0 Ω₁-im*δ₁ 0]; [Ω₁+im*δ₁ 0 Ω₂+im*δ₂]; [0 Ω₂-im*δ₂ 0]])"
   ]
  },
  {
   "cell_type": "code",
   "execution_count": 48,
   "metadata": {
    "Collapsed": "false"
   },
   "outputs": [
    {
     "data": {
      "text/plain": [
       "3-element Array{Tuple{Sym,Int64,Array{Array{Sym,2},1}},1}:\n",
       " (0, 1, [[-(Ω₂ + I*δ₂)/(Ω₁ + I*δ₁); 0; 1]])\n",
       " (-sqrt(Ω₁^2 + Ω₂^2 + δ₁^2 + δ₂^2), 1, [[(Ω₁ - I*δ₁)*(Ω₂ + I*δ₂)/(Ω₁^2 + Ω₂^2 + δ₁^2 + δ₂^2 - (Ω₁ - I*δ₁)*(Ω₁ + I*δ₁)); -(Ω₂ + I*δ₂)*sqrt(Ω₁^2 + Ω₂^2 + δ₁^2 + δ₂^2)/(Ω₁^2 + Ω₂^2 + δ₁^2 + δ₂^2 - (Ω₁ - I*δ₁)*(Ω₁ + I*δ₁)); 1]])\n",
       " (sqrt(Ω₁^2 + Ω₂^2 + δ₁^2 + δ₂^2), 1, [[(Ω₁ - I*δ₁)*(Ω₂ + I*δ₂)/(Ω₁^2 + Ω₂^2 + δ₁^2 + δ₂^2 - (Ω₁ - I*δ₁)*(Ω₁ + I*δ₁)); (Ω₂ + I*δ₂)*sqrt(Ω₁^2 + Ω₂^2 + δ₁^2 + δ₂^2)/(Ω₁^2 + Ω₂^2 + δ₁^2 + δ₂^2 - (Ω₁ - I*δ₁)*(Ω₁ + I*δ₁)); 1]])"
      ]
     },
     "execution_count": 48,
     "metadata": {},
     "output_type": "execute_result"
    }
   ],
   "source": [
    "evecsL = HL.eigenvects()"
   ]
  },
  {
   "cell_type": "code",
   "execution_count": 49,
   "metadata": {
    "Collapsed": "false"
   },
   "outputs": [
    {
     "data": {
      "text/plain": [
       "(0, 1, Array{Sym,2}[[-(Ω₂ + I*δ₂)/(Ω₁ + I*δ₁); 0; 1]])"
      ]
     },
     "execution_count": 49,
     "metadata": {},
     "output_type": "execute_result"
    }
   ],
   "source": [
    "evecsL[1]"
   ]
  },
  {
   "cell_type": "code",
   "execution_count": 50,
   "metadata": {
    "Collapsed": "false"
   },
   "outputs": [
    {
     "data": {
      "text/plain": [
       "(-sqrt(Ω₁^2 + Ω₂^2 + δ₁^2 + δ₂^2), 1, Array{Sym,2}[[(Ω₁ - I*δ₁)*(Ω₂ + I*δ₂)/(Ω₁^2 + Ω₂^2 + δ₁^2 + δ₂^2 - (Ω₁ - I*δ₁)*(Ω₁ + I*δ₁)); -(Ω₂ + I*δ₂)*sqrt(Ω₁^2 + Ω₂^2 + δ₁^2 + δ₂^2)/(Ω₁^2 + Ω₂^2 + δ₁^2 + δ₂^2 - (Ω₁ - I*δ₁)*(Ω₁ + I*δ₁)); 1]])"
      ]
     },
     "execution_count": 50,
     "metadata": {},
     "output_type": "execute_result"
    }
   ],
   "source": [
    "evecsL[2]"
   ]
  },
  {
   "cell_type": "code",
   "execution_count": 53,
   "metadata": {
    "Collapsed": "false"
   },
   "outputs": [
    {
     "data": {
      "text/latex": [
       "\\[\\left[ \\begin{array}{rrr}Δ₁&Ω₁ - i δ₁&0\\\\Ω₁ + i δ₁&Δ₂&Ω₂ + i δ₂\\\\0&Ω₂ - i δ₂&0\\end{array}\\right]\\]"
      ],
      "text/plain": [
       "3×3 Array{Sym,2}:\n",
       "        Δ₁  Ω₁ - I*δ₁          0\n",
       " Ω₁ + I*δ₁         Δ₂  Ω₂ + I*δ₂\n",
       "         0  Ω₂ - I*δ₂          0"
      ]
     },
     "execution_count": 53,
     "metadata": {},
     "output_type": "execute_result"
    }
   ],
   "source": [
    "HL2 = sympy.Matrix([[Δ₁ Ω₁-im*δ₁ 0]; [Ω₁+im*δ₁ Δ₂ Ω₂+im*δ₂]; [0 Ω₂-im*δ₂ 0]])"
   ]
  },
  {
   "cell_type": "code",
   "execution_count": null,
   "metadata": {
    "Collapsed": "false"
   },
   "outputs": [],
   "source": [
    "evalsL2 = HL2.eigenvals()"
   ]
  },
  {
   "cell_type": "code",
   "execution_count": null,
   "metadata": {
    "Collapsed": "false"
   },
   "outputs": [],
   "source": []
  }
 ],
 "metadata": {
  "kernelspec": {
   "display_name": "Julia 1.4.2",
   "language": "julia",
   "name": "julia-1.4"
  },
  "language_info": {
   "file_extension": ".jl",
   "mimetype": "application/julia",
   "name": "julia",
   "version": "1.4.2"
  }
 },
 "nbformat": 4,
 "nbformat_minor": 4
}
