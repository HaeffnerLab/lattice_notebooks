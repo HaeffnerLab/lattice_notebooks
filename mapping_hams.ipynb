{
 "cells": [
  {
   "cell_type": "code",
   "execution_count": 207,
   "metadata": {
    "Collapsed": "false"
   },
   "outputs": [
    {
     "data": {
      "text/plain": [
       "3×3 Array{Complex{Int64},2}:\n",
       " 1+0im   0-1im  0+0im\n",
       " 0+0im   0+1im  0+0im\n",
       " 0+0im  -1+0im  0+0im"
      ]
     },
     "execution_count": 207,
     "metadata": {},
     "output_type": "execute_result"
    }
   ],
   "source": [
    "U = [1 -im 0; 0 im 0; 0 -1 0]"
   ]
  },
  {
   "cell_type": "code",
   "execution_count": 208,
   "metadata": {
    "Collapsed": "false"
   },
   "outputs": [
    {
     "data": {
      "text/plain": [
       "3×3 Array{Complex{Int64},2}:\n",
       " 0+0im  1-1im  0+0im\n",
       " 1+1im  0+0im  2-2im\n",
       " 0+0im  2+2im  0+0im"
      ]
     },
     "execution_count": 208,
     "metadata": {},
     "output_type": "execute_result"
    }
   ],
   "source": [
    "H = [0 1-im 0; 1+im 0 2-2im; 0 2+2im 0 ]"
   ]
  },
  {
   "cell_type": "code",
   "execution_count": 209,
   "metadata": {
    "Collapsed": "false"
   },
   "outputs": [
    {
     "data": {
      "text/plain": [
       "3×3 Array{Complex{Int64},2}:\n",
       "  2+0im  -1+0im  0+1im\n",
       " -1+0im   1+0im  0-1im\n",
       "  0-1im   0+1im  1+0im"
      ]
     },
     "execution_count": 209,
     "metadata": {},
     "output_type": "execute_result"
    }
   ],
   "source": [
    "U * U'"
   ]
  },
  {
   "cell_type": "code",
   "execution_count": 210,
   "metadata": {
    "Collapsed": "false"
   },
   "outputs": [
    {
     "data": {
      "text/plain": [
       "3×3 Array{Complex{Int64},2}:\n",
       "  2+0im  -1-1im  -1+1im\n",
       " -1+1im   0+0im   0+0im\n",
       " -1-1im   0+0im   0+0im"
      ]
     },
     "execution_count": 210,
     "metadata": {},
     "output_type": "execute_result"
    }
   ],
   "source": [
    "U * H * U'"
   ]
  },
  {
   "cell_type": "code",
   "execution_count": 231,
   "metadata": {
    "Collapsed": "false"
   },
   "outputs": [],
   "source": [
    "els = [0, -1, 1, im, -im]\n",
    "U = zeros(ComplexF64, 3, 3)\n",
    "H = [0 1-im 0; 1+im 0 2-2im; 0 2+2im 0]\n",
    "Hideal1 = [1 1 0; 1 2 0; 0 2 0]\n",
    "Hideal2 = [0 1 0; 1 1 0; 0 2 2]\n",
    "Hideal3 = [0 1 0; 1 2 0; 0 2 1];"
   ]
  },
  {
   "cell_type": "code",
   "execution_count": 236,
   "metadata": {
    "Collapsed": "false"
   },
   "outputs": [],
   "source": [
    "cutoff = 1e9\n",
    "i = 0\n",
    "while true\n",
    "    i += 1\n",
    "    for i in 1:3, j in 1:3\n",
    "        U[i, j] = rand(els)\n",
    "    end\n",
    "    F = U * H * U'\n",
    "    if F == Hideal1 || F == Hideal2 || F == Hideal3\n",
    "        print(U)\n",
    "        break\n",
    "    elseif F[1,2] == 1 && F[2,1] == 1 && F[2,3] == 2 && F[3,2] == 2 && F[1,3] == 0 && F[3,1] == 0\n",
    "        print(U)\n",
    "        break\n",
    "    elseif i > cutoff\n",
    "        break\n",
    "    end\n",
    "end\n",
    "    "
   ]
  },
  {
   "cell_type": "code",
   "execution_count": null,
   "metadata": {
    "Collapsed": "false"
   },
   "outputs": [],
   "source": []
  }
 ],
 "metadata": {
  "kernelspec": {
   "display_name": "Julia 1.3.1",
   "language": "julia",
   "name": "julia-1.3"
  },
  "language_info": {
   "file_extension": ".jl",
   "mimetype": "application/julia",
   "name": "julia",
   "version": "1.3.1"
  }
 },
 "nbformat": 4,
 "nbformat_minor": 4
}
