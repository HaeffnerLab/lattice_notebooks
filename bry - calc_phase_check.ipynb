{
 "cells": [
  {
   "cell_type": "code",
   "execution_count": 1,
   "id": "ed85c075-4ae4-4708-9700-1a26d6559892",
   "metadata": {},
   "outputs": [],
   "source": [
    "import numpy as np"
   ]
  },
  {
   "cell_type": "code",
   "execution_count": 2,
   "id": "4bd01664-d687-4880-8ca3-c07678906ad0",
   "metadata": {},
   "outputs": [],
   "source": [
    "def calc_phase_check(x):\n",
    "    x = np.array(x)\n",
    "    xerr = np.sqrt(x * (1 - x) / 1000)\n",
    "    #result\n",
    "    B = (x[0] + x[2]) / 2\n",
    "    N = x[1] - B\n",
    "    D = x[0] - B\n",
    "    ϕ = np.arctan2(N, D)\n",
    "    A = np.sqrt(((x[2] - x[0])/2)**2 + ((2 * x[1] - x[0] - x[2])/2)**2)\n",
    "    \n",
    "    #error\n",
    "    temp_a = xerr[2]**2 * (x[0] - x[1])**2 + xerr[1]**2 * (x[0] - x[2])**2 + xerr[0]**2 * (x[1] - x[2])**2\n",
    "    temp_b = (x[0]**2 - 2 * x[0] * x[1] + 2 * x[1]**2 - 2 * x[1] *x[2] + x[2]**2)**2\n",
    "    error_ϕ = np.sqrt(temp_a / temp_b)\n",
    "    error_B = np.sqrt((1/4) * xerr[0]**2 + (1/4) * xerr[2]**2)\n",
    "    temp_a_A = xerr[0]**2 * (x[0] - x[1])**2 + xerr[2]**2 * (x[1] - x[2])**2 + xerr[1]**2 * (x[0] - 2*x[1] + x[2])**2\n",
    "    temp_b_A = x[0]**2 - 2 * x[0] * x[1] + 2 * x[1]**2 - 2 * x[1] * x[2] + x[2]**2\n",
    "    error_A = np.sqrt(temp_a_A / temp_b_A)\n",
    "    return ϕ, error_ϕ, A, error_A, B, error_B"
   ]
  },
  {
   "cell_type": "code",
   "execution_count": 3,
   "id": "28a9483a-2c81-495e-9761-8a6b2f26ec2e",
   "metadata": {},
   "outputs": [
    {
     "data": {
      "text/plain": [
       "(1.1071487177940904,\n",
       " 0.05848076606885377,\n",
       " 0.22360679774997896,\n",
       " 0.024454038521274965,\n",
       " 0.4,\n",
       " 0.010723805294763607)"
      ]
     },
     "execution_count": 3,
     "metadata": {},
     "output_type": "execute_result"
    }
   ],
   "source": [
    "calc_phase_check([0.5,0.6,0.3])"
   ]
  },
  {
   "cell_type": "code",
   "execution_count": 4,
   "id": "1d4d1462-5829-4cf5-84a8-de68ce6737bf",
   "metadata": {},
   "outputs": [],
   "source": [
    "def calc_phase_old(x):\n",
    "    x = np.array(x)\n",
    "    xerr = np.sqrt(x * (1 - x) / 1000)\n",
    "    B = (x[0] + x[2]) / 2\n",
    "    N = x[1] - B\n",
    "    D = x[0] - B\n",
    "    ϕ = np.arctan2(N, D)\n",
    "    A = xerr[2]**2 * (x[0] - x[1])**2 + xerr[1]**2 * (x[0] - x[2])**2 + xerr[0]**2 * (x[1] - x[2])**2\n",
    "    B = (x[0]**2 - 2 * x[0] * x[1] + 2 * x[1]**2 - 2 * x[1] *x[2] + x[2]**2)**2\n",
    "    error = np.sqrt(A / B)\n",
    "    return ϕ, error"
   ]
  },
  {
   "cell_type": "code",
   "execution_count": 5,
   "id": "dcc0c7ea-b8be-4d2c-a4b9-59ec39209b50",
   "metadata": {},
   "outputs": [
    {
     "data": {
      "text/plain": [
       "(1.1071487177940904, 0.05848076606885377)"
      ]
     },
     "execution_count": 5,
     "metadata": {},
     "output_type": "execute_result"
    }
   ],
   "source": [
    "calc_phase_old([0.5,0.6,0.3])"
   ]
  },
  {
   "cell_type": "code",
   "execution_count": null,
   "id": "5ea7bb2d-2bba-4d55-8fec-5c0b4c926b4f",
   "metadata": {},
   "outputs": [],
   "source": []
  }
 ],
 "metadata": {
  "kernelspec": {
   "display_name": "Python 3",
   "language": "python",
   "name": "python3"
  },
  "language_info": {
   "codemirror_mode": {
    "name": "ipython",
    "version": 3
   },
   "file_extension": ".py",
   "mimetype": "text/x-python",
   "name": "python",
   "nbconvert_exporter": "python",
   "pygments_lexer": "ipython3",
   "version": "3.8.8"
  }
 },
 "nbformat": 4,
 "nbformat_minor": 5
}
